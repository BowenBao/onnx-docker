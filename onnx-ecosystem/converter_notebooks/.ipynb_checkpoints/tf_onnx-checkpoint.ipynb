{
 "cells": [
  {
   "cell_type": "code",
   "execution_count": null,
   "metadata": {},
   "outputs": [],
   "source": [
    "import tensorflow as tf\n",
    "from onnx_tf.frontend import tensorflow_graph_to_onnx_model"
   ]
  },
  {
   "cell_type": "code",
   "execution_count": null,
   "metadata": {},
   "outputs": [],
   "source": [
    "# bazel build tensorflow/tools/graph_transforms:summarize_graph\n",
    "# bazel-bin/tensorflow/tools/graph_transforms/summarize_graph --in_graph=input_tf_frozen_graph"
   ]
  },
  {
   "cell_type": "code",
   "execution_count": null,
   "metadata": {},
   "outputs": [],
   "source": [
    "# Change this path to the input name of your frozen tensorflow graph\n",
    "input_tf_frozen_graph = \"frozen_graph.pb\"\n",
    "\n",
    "\n",
    "input_tf_output_graph_node = \"\"\n",
    "\n",
    "# Change this path to the output name and path for the ONNX model\n",
    "output_onnx_model = \"model.onnx\""
   ]
  },
  {
   "cell_type": "markdown",
   "metadata": {},
   "source": [
    "Find more details about how to determine these two input parameters in [this Tensorflow to ONNX conversion tutorial](https://github.com/onnx/tutorials/blob/master/tutorials/OnnxTensorflowExport.ipynb)."
   ]
  },
  {
   "cell_type": "code",
   "execution_count": null,
   "metadata": {},
   "outputs": [],
   "source": [
    "# convert frozen tensorflow graph to ONNX model\n",
    "\n",
    "with tf.gfile.GFile(input_tf_frozen_graph, \"rb\") as f:\n",
    "    graph_def = tf.GraphDef()\n",
    "    graph_def.ParseFromString(f.read())\n",
    "    onnx_model = tensorflow_graph_to_onnx_model(graph_def, input_tf_output_graph_node)"
   ]
  },
  {
   "cell_type": "code",
   "execution_count": null,
   "metadata": {},
   "outputs": [],
   "source": [
    "# Save as protobuf\n",
    "\n",
    "onnxmltools.utils.save_model(onnx_model, output_onnx_model)"
   ]
  }
 ],
 "metadata": {
  "kernelspec": {
   "display_name": "Python 3",
   "language": "python",
   "name": "python3"
  },
  "language_info": {
   "codemirror_mode": {
    "name": "ipython",
    "version": 3
   },
   "file_extension": ".py",
   "mimetype": "text/x-python",
   "name": "python",
   "nbconvert_exporter": "python",
   "pygments_lexer": "ipython3",
   "version": "3.6.5"
  }
 },
 "nbformat": 4,
 "nbformat_minor": 2
}
