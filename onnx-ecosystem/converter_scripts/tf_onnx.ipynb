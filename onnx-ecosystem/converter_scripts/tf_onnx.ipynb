{
 "cells": [
  {
   "cell_type": "code",
   "execution_count": null,
   "metadata": {},
   "outputs": [],
   "source": [
    "# Tensorflow to ONNX conversion is supported through the tf2onnx converter.\n",
    "\n",
    "import tensorflow as tf\n",
    "import tf2onnx"
   ]
  },
  {
   "cell_type": "code",
   "execution_count": null,
   "metadata": {},
   "outputs": [],
   "source": [
    "# Change this path to the input name of your tf model\n",
    "input_model_name = \"test\"\n",
    "\n",
    "# Change this path to the output name and path for the ONNX model\n",
    "output_onnx_model = \"model.onnx\""
   ]
  },
  {
   "cell_type": "markdown",
   "metadata": {},
   "source": [
    "If you already have a frozen TF graph, you can skip this step and simply import your model."
   ]
  },
  {
   "cell_type": "code",
   "execution_count": null,
   "metadata": {},
   "outputs": [],
   "source": [
    "with tf.Session() as sess:\n",
    "    x = tf.placeholder(tf.float32, [2, 3], name=\"input\")\n",
    "    x_ = tf.add(x, x)\n",
    "    _ = tf.identity(x_, name=\"output\")\n",
    "    onnx_graph = tf2onnx.tfonnx.process_tf_graph(sess.graph, input_names=[\"input:0\"], output_names=[\"output:0\"])\n",
    "    onnx_model = onnx_graph.make_model(input_model_name)"
   ]
  },
  {
   "cell_type": "code",
   "execution_count": null,
   "metadata": {},
   "outputs": [],
   "source": [
    "# Save as protobuf\n",
    "\n",
    "onnxmltools.utils.save_model(onnx_model, output_onnx_model)"
   ]
  }
 ],
 "metadata": {
  "kernelspec": {
   "display_name": "Python 3",
   "language": "python",
   "name": "python3"
  },
  "language_info": {
   "codemirror_mode": {
    "name": "ipython",
    "version": 3
   },
   "file_extension": ".py",
   "mimetype": "text/x-python",
   "name": "python",
   "nbconvert_exporter": "python",
   "pygments_lexer": "ipython3",
   "version": "3.5.2"
  }
 },
 "nbformat": 4,
 "nbformat_minor": 2
}
